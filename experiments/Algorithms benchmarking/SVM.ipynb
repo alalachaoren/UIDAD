{
 "cells": [
  {
   "cell_type": "code",
   "execution_count": null,
   "metadata": {},
   "outputs": [
    {
     "name": "stderr",
     "output_type": "stream",
     "text": [
      "C:\\Users\\taotao\\AppData\\Roaming\\Python\\Python36\\site-packages\\sklearn\\utils\\deprecation.py:144: FutureWarning: The sklearn.neighbors.kde module is  deprecated in version 0.22 and will be removed in version 0.24. The corresponding classes / functions should instead be imported from sklearn.neighbors. Anything that cannot be imported from sklearn.neighbors is now part of the private API.\n",
      "  warnings.warn(message, FutureWarning)\n",
      "C:\\Users\\taotao\\AppData\\Roaming\\Python\\Python36\\site-packages\\sklearn\\utils\\deprecation.py:144: FutureWarning: The sklearn.semi_supervised.label_propagation module is  deprecated in version 0.22 and will be removed in version 0.24. The corresponding classes / functions should instead be imported from sklearn.semi_supervised. Anything that cannot be imported from sklearn.semi_supervised is now part of the private API.\n",
      "  warnings.warn(message, FutureWarning)\n",
      "C:\\Users\\taotao\\AppData\\Roaming\\Python\\Python36\\site-packages\\sklearn\\utils\\deprecation.py:144: FutureWarning: The sklearn.neighbors.nearest_centroid module is  deprecated in version 0.22 and will be removed in version 0.24. The corresponding classes / functions should instead be imported from sklearn.neighbors. Anything that cannot be imported from sklearn.neighbors is now part of the private API.\n",
      "  warnings.warn(message, FutureWarning)\n",
      "C:\\Users\\taotao\\Desktop\\论文\\AMANDA\\setup.py:33: FutureWarning: Method .as_matrix will be removed in a future version. Use .values instead.\n",
      "  dataValues = pd.DataFrame.as_matrix(dataValues)\n",
      "C:\\Users\\taotao\\AppData\\Roaming\\Python\\Python36\\site-packages\\sklearn\\semi_supervised\\_label_propagation.py:288: ConvergenceWarning: max_iter=30 was reached without convergence.\n",
      "  category=ConvergenceWarning\n"
     ]
    },
    {
     "name": "stdout",
     "output_type": "stream",
     "text": [
      "**************** BEGIN of COMPOSE GMM results ****************\n",
      "One Class Horizontal Translation. 2 Dimensional data.: 100 batches of 152 instances\n"
     ]
    }
   ],
   "source": [
    "import sys\n",
    "import os\n",
    "import numpy as np\n",
    "from pathlib import Path\n",
    "os.chdir(Path(os.getcwd()).resolve().parents[1])\n",
    "import setup\n",
    "from methods import grid_selection_classifier3\n",
    "from sklearn.model_selection import ParameterGrid\n",
    "\n",
    "\n",
    "\n",
    "def writeResults(datasetID, bestScore, bestParams):\n",
    "    path = \"old_results/batch/fixed/gridsearch_compose.txt\"\n",
    "    file = open(path,\"a\") \n",
    "    string = \"{}: {} using {} \\n\".format(datasetID, bestScore, bestParams)\n",
    "    file.write(string)\n",
    "    file.close() \n",
    "\n",
    "\n",
    "def main():\n",
    "    is_windows = sys.platform.startswith('win')\n",
    "    sep = '\\\\'\n",
    "    \n",
    "    if is_windows == False:\n",
    "        sep = '/'\n",
    "\n",
    "    path = os.getcwd()+sep+'data'+sep\n",
    "    \n",
    "    #loading datasets\n",
    "    #99.9736 {'K': 5, 'batches': 100, 'initialLabeledData': 800, 'p': 0.2, 'sizeOfBatch': 152}\n",
    "    datasets = [setup.loadCHT, setup.load2CDT, setup.load2CHT, setup.load4CR, setup.load4CRE_V1, \n",
    "                setup.load4CRE_V2, setup.load5CVT, setup.loadCSurr, setup.load4CE1CF, setup.loadUG_2C_2D, setup.loadMG_2C_2D, \n",
    "                setup.loadFG_2C_2D, setup.loadUG_2C_3D, setup.loadUG_2C_5D, setup.loadGEARS_2C_2D, setup.loadCheckerBoard, \n",
    "                setup.loadElecData, setup.loadNOAADataset, setup.loadKeystroke]\n",
    "    batches=100\n",
    "    '''\n",
    "    datasets=[setup.loadCSurr]\n",
    "    arrClfName = ['KNN']#['NB', 'RF', 'LP', 'KNN'] \n",
    "    batches=100\n",
    "    '''\n",
    "   \n",
    "    print(\"**************** BEGIN of COMPOSE GMM results ****************\")\n",
    "\n",
    "    #testing grid search\n",
    "    for i in range(len(datasets)):\n",
    "        if i==len(datasets)-2:\n",
    "            batches=50\n",
    "        elif i==len(datasets)-1:\n",
    "            batches=8\n",
    "        else:\n",
    "            batches=100\n",
    "\n",
    "        finalScore = 0\n",
    "        best_grid={}\n",
    "        dataValues, dataLabels, description = datasets[i](path, sep)\n",
    "\n",
    "        initialLabeledData = int(0.05*len(dataLabels))\n",
    "        sizeOfBatch = int((len(dataLabels)-initialLabeledData)/batches)\n",
    "\n",
    "        print(\"{}: {} batches of {} instances\".format(description, batches, sizeOfBatch))\n",
    "\n",
    "        tuned_params = [{\"p\" : [0.2, 0.3, 0.4, 0.5],\n",
    "                         \"sizeOfBatch\":[sizeOfBatch], \"batches\":[batches],\n",
    "                         \"initialLabeledData\":[initialLabeledData]}]\n",
    "        tuned_params[0].update({\"K\":[2, 3, 4, 5, 6, 7, 8, 9, 10, 11, 12]})\n",
    "\n",
    "        for g in ParameterGrid(tuned_params):\n",
    "            averageAccuracy=0\n",
    "            gs = grid_selection_classifier3.run(**g)\n",
    "\n",
    "            try:\n",
    "                gs.fit(dataValues, dataLabels)\n",
    "                averageAccuracy = np.mean(gs.predict())\n",
    "                print(averageAccuracy, g)\n",
    "                if finalScore < averageAccuracy:\n",
    "                    finalScore = averageAccuracy\n",
    "                    best_grid = g\n",
    "            except Exception:\n",
    "                print(\"An error occured in \", description, g)\n",
    "                #raise Exception\n",
    "\n",
    "        print(finalScore)\n",
    "        print(best_grid)\n",
    "        print(\"=======================================================================================================\")\n",
    "\n",
    "        writeResults(description, finalScore, best_grid)\n",
    "    print(\"******** END of COMPOSE GMM results ********\")\n",
    "    \n",
    "if __name__ == \"__main__\":\n",
    "    main()\n"
   ]
  },
  {
   "cell_type": "code",
   "execution_count": null,
   "metadata": {
    "collapsed": true
   },
   "outputs": [],
   "source": []
  }
 ],
 "metadata": {
  "kernelspec": {
   "display_name": "Python 3",
   "language": "python",
   "name": "python3"
  },
  "language_info": {
   "codemirror_mode": {
    "name": "ipython",
    "version": 3
   },
   "file_extension": ".py",
   "mimetype": "text/x-python",
   "name": "python",
   "nbconvert_exporter": "python",
   "pygments_lexer": "ipython3",
   "version": "3.6.1"
  },
  "widgets": {
   "state": {
    "2adeb28c9cd6479fb2f1046b0c0d8d02": {
     "views": [
      {
       "cell_index": 0
      }
     ]
    }
   },
   "version": "1.2.0"
  }
 },
 "nbformat": 4,
 "nbformat_minor": 2
}
